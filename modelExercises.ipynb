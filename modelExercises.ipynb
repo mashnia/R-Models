{
 "cells": [
  {
   "cell_type": "markdown",
   "metadata": {},
   "source": [
    "### Exercise 1 <br>\n",
    "Familiarize yourself with the heights data set provided with the modelr package."
   ]
  },
  {
   "cell_type": "code",
   "execution_count": null,
   "metadata": {},
   "outputs": [],
   "source": [
    "install.packages(\"modelr\")"
   ]
  },
  {
   "cell_type": "code",
   "execution_count": 1,
   "metadata": {},
   "outputs": [
    {
     "name": "stderr",
     "output_type": "stream",
     "text": [
      "── \u001b[1mAttaching packages\u001b[22m ─────────────────────────────────────────────────────────────────────────────── tidyverse 1.3.1 ──\n",
      "\n",
      "\u001b[32m✔\u001b[39m \u001b[34mggplot2\u001b[39m 3.3.6     \u001b[32m✔\u001b[39m \u001b[34mpurrr  \u001b[39m 0.3.4\n",
      "\u001b[32m✔\u001b[39m \u001b[34mtibble \u001b[39m 3.1.7     \u001b[32m✔\u001b[39m \u001b[34mdplyr  \u001b[39m 1.0.9\n",
      "\u001b[32m✔\u001b[39m \u001b[34mtidyr  \u001b[39m 1.2.0     \u001b[32m✔\u001b[39m \u001b[34mstringr\u001b[39m 1.4.0\n",
      "\u001b[32m✔\u001b[39m \u001b[34mreadr  \u001b[39m 2.1.2     \u001b[32m✔\u001b[39m \u001b[34mforcats\u001b[39m 0.5.1\n",
      "\n",
      "── \u001b[1mConflicts\u001b[22m ────────────────────────────────────────────────────────────────────────────────── tidyverse_conflicts() ──\n",
      "\u001b[31m✖\u001b[39m \u001b[34mdplyr\u001b[39m::\u001b[32mfilter()\u001b[39m masks \u001b[34mstats\u001b[39m::filter()\n",
      "\u001b[31m✖\u001b[39m \u001b[34mdplyr\u001b[39m::\u001b[32mlag()\u001b[39m    masks \u001b[34mstats\u001b[39m::lag()\n",
      "\n"
     ]
    }
   ],
   "source": [
    "library(tidyverse)\n",
    "library(modelr)"
   ]
  },
  {
   "cell_type": "code",
   "execution_count": null,
   "metadata": {},
   "outputs": [],
   "source": [
    "installed.packages()"
   ]
  },
  {
   "cell_type": "code",
   "execution_count": 2,
   "metadata": {},
   "outputs": [
    {
     "data": {
      "text/plain": [
       "R version 4.2.0 (2022-04-22 ucrt)\n",
       "Platform: x86_64-w64-mingw32/x64 (64-bit)\n",
       "Running under: Windows 10 x64 (build 19044)\n",
       "\n",
       "Matrix products: default\n",
       "\n",
       "locale:\n",
       "[1] LC_COLLATE=English_United States.utf8 \n",
       "[2] LC_CTYPE=English_United States.utf8   \n",
       "[3] LC_MONETARY=English_United States.utf8\n",
       "[4] LC_NUMERIC=C                          \n",
       "[5] LC_TIME=English_United States.utf8    \n",
       "\n",
       "attached base packages:\n",
       "[1] stats     graphics  grDevices utils     datasets  methods   base     \n",
       "\n",
       "other attached packages:\n",
       " [1] modelr_0.1.8    forcats_0.5.1   stringr_1.4.0   dplyr_1.0.9    \n",
       " [5] purrr_0.3.4     readr_2.1.2     tidyr_1.2.0     tibble_3.1.7   \n",
       " [9] ggplot2_3.3.6   tidyverse_1.3.1\n",
       "\n",
       "loaded via a namespace (and not attached):\n",
       " [1] pbdZMQ_0.3-7     tidyselect_1.1.2 repr_1.1.4       haven_2.5.0     \n",
       " [5] colorspace_2.0-3 vctrs_0.4.1      generics_0.1.2   htmltools_0.5.2 \n",
       " [9] base64enc_0.1-3  utf8_1.2.2       rlang_1.0.2      pillar_1.7.0    \n",
       "[13] glue_1.6.2       withr_2.5.0      DBI_1.1.2        dbplyr_2.1.1    \n",
       "[17] readxl_1.4.0     uuid_1.1-0       lifecycle_1.0.1  munsell_0.5.0   \n",
       "[21] gtable_0.3.0     cellranger_1.1.0 rvest_1.0.2      evaluate_0.15   \n",
       "[25] tzdb_0.3.0       fastmap_1.1.0    fansi_1.0.3      broom_0.8.0     \n",
       "[29] IRdisplay_1.1    backports_1.4.1  scales_1.2.0     IRkernel_1.3    \n",
       "[33] jsonlite_1.8.0   fs_1.5.2         hms_1.1.1        digest_0.6.29   \n",
       "[37] stringi_1.7.6    grid_4.2.0       cli_3.3.0        tools_4.2.0     \n",
       "[41] magrittr_2.0.3   crayon_1.5.1     pkgconfig_2.0.3  ellipsis_0.3.2  \n",
       "[45] xml2_1.3.3       reprex_2.0.1     lubridate_1.8.0  rstudioapi_0.13 \n",
       "[49] assertthat_0.2.1 httr_1.4.3       R6_2.5.1         compiler_4.2.0  "
      ]
     },
     "metadata": {},
     "output_type": "display_data"
    }
   ],
   "source": [
    "sessionInfo()"
   ]
  },
  {
   "cell_type": "code",
   "execution_count": 3,
   "metadata": {},
   "outputs": [
    {
     "data": {
      "text/html": [
       "<style>\n",
       ".list-inline {list-style: none; margin:0; padding: 0}\n",
       ".list-inline>li {display: inline-block}\n",
       ".list-inline>li:not(:last-child)::after {content: \"\\00b7\"; padding: 0 .5ex}\n",
       "</style>\n",
       "<ol class=list-inline><li>'%&gt;%'</li><li>'add_predictions'</li><li>'add_predictors'</li><li>'add_residuals'</li><li>'bootstrap'</li><li>'crossv_kfold'</li><li>'crossv_loo'</li><li>'crossv_mc'</li><li>'data_grid'</li><li>'fit_with'</li><li>'formulae'</li><li>'formulas'</li><li>'gather_predictions'</li><li>'gather_residuals'</li><li>'geom_ref_line'</li><li>'heights'</li><li>'mae'</li><li>'mape'</li><li>'model_matrix'</li><li>'mse'</li><li>'na.warn'</li><li>'permute'</li><li>'permute_'</li><li>'qae'</li><li>'resample'</li><li>'resample_bootstrap'</li><li>'resample_partition'</li><li>'resample_permutation'</li><li>'rmse'</li><li>'rsae'</li><li>'rsquare'</li><li>'seq_range'</li><li>'sim1'</li><li>'sim2'</li><li>'sim3'</li><li>'sim4'</li><li>'spread_predictions'</li><li>'spread_residuals'</li><li>'typical'</li></ol>\n"
      ],
      "text/latex": [
       "\\begin{enumerate*}\n",
       "\\item '\\%>\\%'\n",
       "\\item 'add\\_predictions'\n",
       "\\item 'add\\_predictors'\n",
       "\\item 'add\\_residuals'\n",
       "\\item 'bootstrap'\n",
       "\\item 'crossv\\_kfold'\n",
       "\\item 'crossv\\_loo'\n",
       "\\item 'crossv\\_mc'\n",
       "\\item 'data\\_grid'\n",
       "\\item 'fit\\_with'\n",
       "\\item 'formulae'\n",
       "\\item 'formulas'\n",
       "\\item 'gather\\_predictions'\n",
       "\\item 'gather\\_residuals'\n",
       "\\item 'geom\\_ref\\_line'\n",
       "\\item 'heights'\n",
       "\\item 'mae'\n",
       "\\item 'mape'\n",
       "\\item 'model\\_matrix'\n",
       "\\item 'mse'\n",
       "\\item 'na.warn'\n",
       "\\item 'permute'\n",
       "\\item 'permute\\_'\n",
       "\\item 'qae'\n",
       "\\item 'resample'\n",
       "\\item 'resample\\_bootstrap'\n",
       "\\item 'resample\\_partition'\n",
       "\\item 'resample\\_permutation'\n",
       "\\item 'rmse'\n",
       "\\item 'rsae'\n",
       "\\item 'rsquare'\n",
       "\\item 'seq\\_range'\n",
       "\\item 'sim1'\n",
       "\\item 'sim2'\n",
       "\\item 'sim3'\n",
       "\\item 'sim4'\n",
       "\\item 'spread\\_predictions'\n",
       "\\item 'spread\\_residuals'\n",
       "\\item 'typical'\n",
       "\\end{enumerate*}\n"
      ],
      "text/markdown": [
       "1. '%&gt;%'\n",
       "2. 'add_predictions'\n",
       "3. 'add_predictors'\n",
       "4. 'add_residuals'\n",
       "5. 'bootstrap'\n",
       "6. 'crossv_kfold'\n",
       "7. 'crossv_loo'\n",
       "8. 'crossv_mc'\n",
       "9. 'data_grid'\n",
       "10. 'fit_with'\n",
       "11. 'formulae'\n",
       "12. 'formulas'\n",
       "13. 'gather_predictions'\n",
       "14. 'gather_residuals'\n",
       "15. 'geom_ref_line'\n",
       "16. 'heights'\n",
       "17. 'mae'\n",
       "18. 'mape'\n",
       "19. 'model_matrix'\n",
       "20. 'mse'\n",
       "21. 'na.warn'\n",
       "22. 'permute'\n",
       "23. 'permute_'\n",
       "24. 'qae'\n",
       "25. 'resample'\n",
       "26. 'resample_bootstrap'\n",
       "27. 'resample_partition'\n",
       "28. 'resample_permutation'\n",
       "29. 'rmse'\n",
       "30. 'rsae'\n",
       "31. 'rsquare'\n",
       "32. 'seq_range'\n",
       "33. 'sim1'\n",
       "34. 'sim2'\n",
       "35. 'sim3'\n",
       "36. 'sim4'\n",
       "37. 'spread_predictions'\n",
       "38. 'spread_residuals'\n",
       "39. 'typical'\n",
       "\n",
       "\n"
      ],
      "text/plain": [
       " [1] \"%>%\"                  \"add_predictions\"      \"add_predictors\"      \n",
       " [4] \"add_residuals\"        \"bootstrap\"            \"crossv_kfold\"        \n",
       " [7] \"crossv_loo\"           \"crossv_mc\"            \"data_grid\"           \n",
       "[10] \"fit_with\"             \"formulae\"             \"formulas\"            \n",
       "[13] \"gather_predictions\"   \"gather_residuals\"     \"geom_ref_line\"       \n",
       "[16] \"heights\"              \"mae\"                  \"mape\"                \n",
       "[19] \"model_matrix\"         \"mse\"                  \"na.warn\"             \n",
       "[22] \"permute\"              \"permute_\"             \"qae\"                 \n",
       "[25] \"resample\"             \"resample_bootstrap\"   \"resample_partition\"  \n",
       "[28] \"resample_permutation\" \"rmse\"                 \"rsae\"                \n",
       "[31] \"rsquare\"              \"seq_range\"            \"sim1\"                \n",
       "[34] \"sim2\"                 \"sim3\"                 \"sim4\"                \n",
       "[37] \"spread_predictions\"   \"spread_residuals\"     \"typical\"             "
      ]
     },
     "metadata": {},
     "output_type": "display_data"
    }
   ],
   "source": [
    "ls(\"package:modelr\") "
   ]
  },
  {
   "cell_type": "code",
   "execution_count": 4,
   "metadata": {
    "scrolled": true
   },
   "outputs": [
    {
     "data": {
      "text/html": [
       "<table class=\"dataframe\">\n",
       "<caption>A tibble: 6 × 8</caption>\n",
       "<thead>\n",
       "\t<tr><th scope=col>income</th><th scope=col>height</th><th scope=col>weight</th><th scope=col>age</th><th scope=col>marital</th><th scope=col>sex</th><th scope=col>education</th><th scope=col>afqt</th></tr>\n",
       "\t<tr><th scope=col>&lt;int&gt;</th><th scope=col>&lt;dbl&gt;</th><th scope=col>&lt;int&gt;</th><th scope=col>&lt;int&gt;</th><th scope=col>&lt;fct&gt;</th><th scope=col>&lt;fct&gt;</th><th scope=col>&lt;int&gt;</th><th scope=col>&lt;dbl&gt;</th></tr>\n",
       "</thead>\n",
       "<tbody>\n",
       "\t<tr><td> 19000</td><td>60</td><td>155</td><td>53</td><td>married </td><td>female</td><td>13</td><td> 6.841</td></tr>\n",
       "\t<tr><td> 35000</td><td>70</td><td>156</td><td>51</td><td>married </td><td>female</td><td>10</td><td>49.444</td></tr>\n",
       "\t<tr><td>105000</td><td>65</td><td>195</td><td>52</td><td>married </td><td>male  </td><td>16</td><td>99.393</td></tr>\n",
       "\t<tr><td> 40000</td><td>63</td><td>197</td><td>54</td><td>married </td><td>female</td><td>14</td><td>44.022</td></tr>\n",
       "\t<tr><td> 75000</td><td>66</td><td>190</td><td>49</td><td>married </td><td>male  </td><td>14</td><td>59.683</td></tr>\n",
       "\t<tr><td>102000</td><td>68</td><td>200</td><td>49</td><td>divorced</td><td>female</td><td>18</td><td>98.798</td></tr>\n",
       "</tbody>\n",
       "</table>\n"
      ],
      "text/latex": [
       "A tibble: 6 × 8\n",
       "\\begin{tabular}{llllllll}\n",
       " income & height & weight & age & marital & sex & education & afqt\\\\\n",
       " <int> & <dbl> & <int> & <int> & <fct> & <fct> & <int> & <dbl>\\\\\n",
       "\\hline\n",
       "\t  19000 & 60 & 155 & 53 & married  & female & 13 &  6.841\\\\\n",
       "\t  35000 & 70 & 156 & 51 & married  & female & 10 & 49.444\\\\\n",
       "\t 105000 & 65 & 195 & 52 & married  & male   & 16 & 99.393\\\\\n",
       "\t  40000 & 63 & 197 & 54 & married  & female & 14 & 44.022\\\\\n",
       "\t  75000 & 66 & 190 & 49 & married  & male   & 14 & 59.683\\\\\n",
       "\t 102000 & 68 & 200 & 49 & divorced & female & 18 & 98.798\\\\\n",
       "\\end{tabular}\n"
      ],
      "text/markdown": [
       "\n",
       "A tibble: 6 × 8\n",
       "\n",
       "| income &lt;int&gt; | height &lt;dbl&gt; | weight &lt;int&gt; | age &lt;int&gt; | marital &lt;fct&gt; | sex &lt;fct&gt; | education &lt;int&gt; | afqt &lt;dbl&gt; |\n",
       "|---|---|---|---|---|---|---|---|\n",
       "|  19000 | 60 | 155 | 53 | married  | female | 13 |  6.841 |\n",
       "|  35000 | 70 | 156 | 51 | married  | female | 10 | 49.444 |\n",
       "| 105000 | 65 | 195 | 52 | married  | male   | 16 | 99.393 |\n",
       "|  40000 | 63 | 197 | 54 | married  | female | 14 | 44.022 |\n",
       "|  75000 | 66 | 190 | 49 | married  | male   | 14 | 59.683 |\n",
       "| 102000 | 68 | 200 | 49 | divorced | female | 18 | 98.798 |\n",
       "\n"
      ],
      "text/plain": [
       "  income height weight age marital  sex    education afqt  \n",
       "1  19000 60     155    53  married  female 13         6.841\n",
       "2  35000 70     156    51  married  female 10        49.444\n",
       "3 105000 65     195    52  married  male   16        99.393\n",
       "4  40000 63     197    54  married  female 14        44.022\n",
       "5  75000 66     190    49  married  male   14        59.683\n",
       "6 102000 68     200    49  divorced female 18        98.798"
      ]
     },
     "metadata": {},
     "output_type": "display_data"
    }
   ],
   "source": [
    "head(heights)"
   ]
  },
  {
   "cell_type": "markdown",
   "metadata": {},
   "source": [
    "### Exercise 2 <br>\n",
    "Create a list of formulas for modeling income with:\n",
    "(*height)\n",
    "(*height * weight)\n",
    "(*linear combination of all variables)"
   ]
  },
  {
   "cell_type": "markdown",
   "metadata": {},
   "source": [
    "Formula 1: Income and height"
   ]
  },
  {
   "cell_type": "code",
   "execution_count": 5,
   "metadata": {},
   "outputs": [
    {
     "data": {
      "text/plain": [
       "\n",
       "Call:\n",
       "lm(formula = income ~ height, data = heights)\n",
       "\n",
       "Coefficients:\n",
       "(Intercept)       height  \n",
       "    -158888         2982  \n"
      ]
     },
     "metadata": {},
     "output_type": "display_data"
    }
   ],
   "source": [
    "incomeHeight <- lm(income ~ height, data=heights)\n",
    "incomeHeight"
   ]
  },
  {
   "cell_type": "markdown",
   "metadata": {},
   "source": [
    "Formula 2: Income with height*weight"
   ]
  },
  {
   "cell_type": "code",
   "execution_count": 6,
   "metadata": {},
   "outputs": [
    {
     "data": {
      "text/plain": [
       "\n",
       "Call:\n",
       "lm(formula = income ~ height * weight, data = heights)\n",
       "\n",
       "Coefficients:\n",
       "  (Intercept)         height         weight  height:weight  \n",
       "   -2.075e+05      3.933e+03      1.044e+02     -2.741e+00  \n"
      ]
     },
     "metadata": {},
     "output_type": "display_data"
    }
   ],
   "source": [
    "incomeHeightWeight <- lm(income ~ height*weight, data=heights)\n",
    "incomeHeightWeight"
   ]
  },
  {
   "cell_type": "markdown",
   "metadata": {},
   "source": [
    "Formula 3: income with all varaibles"
   ]
  },
  {
   "cell_type": "code",
   "execution_count": 7,
   "metadata": {},
   "outputs": [
    {
     "data": {
      "text/plain": [
       "\n",
       "Call:\n",
       "lm(formula = income ~ height + weight + age + marital + sex + \n",
       "    education + afqt, data = heights)\n",
       "\n",
       "Coefficients:\n",
       "     (Intercept)            height            weight               age  \n",
       "       -44409.17            293.26            -22.62           -401.81  \n",
       "  maritalmarried  maritalseparated   maritaldivorced    maritalwidowed  \n",
       "        14204.65           3364.49           5586.83          10663.36  \n",
       "       sexfemale         education              afqt  \n",
       "       -24815.77           5944.87            389.42  \n"
      ]
     },
     "metadata": {},
     "output_type": "display_data"
    }
   ],
   "source": [
    "incomeAllVars <- lm(income ~ height + weight + age + marital + sex + education + afqt, data = heights)\n",
    "incomeAllVars"
   ]
  },
  {
   "cell_type": "markdown",
   "metadata": {},
   "source": [
    "### Exercise 3 <br>\n",
    "From the data, remove rows containing NA’s. Fit the linear model with the formulas from exercise 2."
   ]
  },
  {
   "cell_type": "code",
   "execution_count": 8,
   "metadata": {},
   "outputs": [
    {
     "data": {
      "text/html": [
       "<table class=\"dataframe\">\n",
       "<caption>A tibble: 6645 × 8</caption>\n",
       "<thead>\n",
       "\t<tr><th scope=col>income</th><th scope=col>height</th><th scope=col>weight</th><th scope=col>age</th><th scope=col>marital</th><th scope=col>sex</th><th scope=col>education</th><th scope=col>afqt</th></tr>\n",
       "\t<tr><th scope=col>&lt;int&gt;</th><th scope=col>&lt;dbl&gt;</th><th scope=col>&lt;int&gt;</th><th scope=col>&lt;int&gt;</th><th scope=col>&lt;fct&gt;</th><th scope=col>&lt;fct&gt;</th><th scope=col>&lt;int&gt;</th><th scope=col>&lt;dbl&gt;</th></tr>\n",
       "</thead>\n",
       "<tbody>\n",
       "\t<tr><td> 19000</td><td>60</td><td>155</td><td>53</td><td>married </td><td>female</td><td>13</td><td> 6.841</td></tr>\n",
       "\t<tr><td> 35000</td><td>70</td><td>156</td><td>51</td><td>married </td><td>female</td><td>10</td><td>49.444</td></tr>\n",
       "\t<tr><td>105000</td><td>65</td><td>195</td><td>52</td><td>married </td><td>male  </td><td>16</td><td>99.393</td></tr>\n",
       "\t<tr><td> 40000</td><td>63</td><td>197</td><td>54</td><td>married </td><td>female</td><td>14</td><td>44.022</td></tr>\n",
       "\t<tr><td> 75000</td><td>66</td><td>190</td><td>49</td><td>married </td><td>male  </td><td>14</td><td>59.683</td></tr>\n",
       "\t<tr><td>102000</td><td>68</td><td>200</td><td>49</td><td>divorced</td><td>female</td><td>18</td><td>98.798</td></tr>\n",
       "\t<tr><td>     0</td><td>74</td><td>225</td><td>48</td><td>married </td><td>male  </td><td>16</td><td>82.260</td></tr>\n",
       "\t<tr><td> 70000</td><td>64</td><td>160</td><td>54</td><td>divorced</td><td>female</td><td>12</td><td>50.283</td></tr>\n",
       "\t<tr><td> 60000</td><td>69</td><td>162</td><td>55</td><td>divorced</td><td>male  </td><td>12</td><td>89.669</td></tr>\n",
       "\t<tr><td>150000</td><td>69</td><td>194</td><td>54</td><td>divorced</td><td>male  </td><td>13</td><td>95.977</td></tr>\n",
       "\t<tr><td>115000</td><td>64</td><td>145</td><td>53</td><td>married </td><td>female</td><td>16</td><td>67.021</td></tr>\n",
       "\t<tr><td>343830</td><td>62</td><td>170</td><td>51</td><td>married </td><td>female</td><td>16</td><td>88.416</td></tr>\n",
       "\t<tr><td> 40000</td><td>64</td><td>145</td><td>49</td><td>divorced</td><td>female</td><td>16</td><td>89.167</td></tr>\n",
       "\t<tr><td> 35000</td><td>66</td><td>128</td><td>52</td><td>married </td><td>female</td><td>14</td><td>51.390</td></tr>\n",
       "\t<tr><td>105000</td><td>67</td><td>177</td><td>50</td><td>married </td><td>male  </td><td>16</td><td>97.075</td></tr>\n",
       "\t<tr><td> 16036</td><td>62</td><td>170</td><td>52</td><td>married </td><td>female</td><td>16</td><td>96.674</td></tr>\n",
       "\t<tr><td>  5200</td><td>68</td><td>175</td><td>52</td><td>married </td><td>female</td><td>12</td><td>25.905</td></tr>\n",
       "\t<tr><td>     0</td><td>64</td><td>180</td><td>53</td><td>married </td><td>female</td><td>13</td><td> 8.528</td></tr>\n",
       "\t<tr><td> 53000</td><td>70</td><td>221</td><td>54</td><td>divorced</td><td>male  </td><td>12</td><td> 6.069</td></tr>\n",
       "\t<tr><td> 44000</td><td>66</td><td>175</td><td>54</td><td>married </td><td>female</td><td>12</td><td>56.290</td></tr>\n",
       "\t<tr><td> 93000</td><td>63</td><td>151</td><td>50</td><td>married </td><td>female</td><td>12</td><td>12.788</td></tr>\n",
       "\t<tr><td> 62000</td><td>72</td><td>200</td><td>53</td><td>married </td><td>male  </td><td>12</td><td>26.851</td></tr>\n",
       "\t<tr><td> 45000</td><td>66</td><td>170</td><td>52</td><td>married </td><td>male  </td><td>14</td><td>38.419</td></tr>\n",
       "\t<tr><td>130000</td><td>74</td><td>236</td><td>50</td><td>married </td><td>male  </td><td>16</td><td>57.095</td></tr>\n",
       "\t<tr><td> 45000</td><td>72</td><td>270</td><td>49</td><td>married </td><td>male  </td><td>12</td><td>22.326</td></tr>\n",
       "\t<tr><td>     0</td><td>66</td><td>250</td><td>51</td><td>divorced</td><td>female</td><td>12</td><td>15.325</td></tr>\n",
       "\t<tr><td> 75000</td><td>72</td><td>215</td><td>53</td><td>married </td><td>male  </td><td>12</td><td>75.473</td></tr>\n",
       "\t<tr><td> 73000</td><td>68</td><td>230</td><td>54</td><td>married </td><td>female</td><td>14</td><td>71.226</td></tr>\n",
       "\t<tr><td> 55000</td><td>65</td><td>200</td><td>54</td><td>married </td><td>female</td><td>12</td><td>78.742</td></tr>\n",
       "\t<tr><td>343830</td><td>72</td><td>210</td><td>54</td><td>divorced</td><td>male  </td><td>14</td><td>69.080</td></tr>\n",
       "\t<tr><td>⋮</td><td>⋮</td><td>⋮</td><td>⋮</td><td>⋮</td><td>⋮</td><td>⋮</td><td>⋮</td></tr>\n",
       "\t<tr><td> 13000</td><td>64</td><td>191</td><td>50</td><td>single   </td><td>female</td><td>14</td><td>30.566</td></tr>\n",
       "\t<tr><td> 23000</td><td>69</td><td>253</td><td>53</td><td>married  </td><td>female</td><td>12</td><td> 8.048</td></tr>\n",
       "\t<tr><td>  9800</td><td>64</td><td>143</td><td>55</td><td>single   </td><td>female</td><td>18</td><td>59.725</td></tr>\n",
       "\t<tr><td> 38000</td><td>65</td><td>238</td><td>49</td><td>divorced </td><td>female</td><td>12</td><td>23.066</td></tr>\n",
       "\t<tr><td> 15000</td><td>69</td><td>286</td><td>52</td><td>married  </td><td>male  </td><td>11</td><td>56.305</td></tr>\n",
       "\t<tr><td> 57000</td><td>72</td><td>230</td><td>52</td><td>married  </td><td>male  </td><td>18</td><td>24.827</td></tr>\n",
       "\t<tr><td>160000</td><td>72</td><td>175</td><td>53</td><td>married  </td><td>male  </td><td>16</td><td>76.013</td></tr>\n",
       "\t<tr><td>343830</td><td>70</td><td>180</td><td>50</td><td>married  </td><td>male  </td><td>18</td><td>92.429</td></tr>\n",
       "\t<tr><td> 44600</td><td>66</td><td>126</td><td>50</td><td>divorced </td><td>female</td><td>12</td><td>28.024</td></tr>\n",
       "\t<tr><td>     0</td><td>69</td><td>150</td><td>54</td><td>single   </td><td>male  </td><td>12</td><td>19.957</td></tr>\n",
       "\t<tr><td>     0</td><td>61</td><td>164</td><td>52</td><td>divorced </td><td>female</td><td>15</td><td>13.613</td></tr>\n",
       "\t<tr><td>     0</td><td>62</td><td>170</td><td>52</td><td>single   </td><td>female</td><td>12</td><td>33.225</td></tr>\n",
       "\t<tr><td> 65000</td><td>60</td><td>150</td><td>51</td><td>married  </td><td>female</td><td>16</td><td>70.098</td></tr>\n",
       "\t<tr><td>  9120</td><td>62</td><td>148</td><td>56</td><td>married  </td><td>female</td><td>11</td><td> 9.484</td></tr>\n",
       "\t<tr><td> 32000</td><td>66</td><td>212</td><td>55</td><td>married  </td><td>male  </td><td>10</td><td> 4.134</td></tr>\n",
       "\t<tr><td> 34000</td><td>60</td><td>235</td><td>50</td><td>separated</td><td>female</td><td>12</td><td>20.629</td></tr>\n",
       "\t<tr><td>     0</td><td>67</td><td>230</td><td>52</td><td>married  </td><td>female</td><td>12</td><td> 3.310</td></tr>\n",
       "\t<tr><td> 10000</td><td>75</td><td>200</td><td>51</td><td>divorced </td><td>male  </td><td>12</td><td>12.200</td></tr>\n",
       "\t<tr><td> 22000</td><td>61</td><td>150</td><td>53</td><td>married  </td><td>female</td><td>11</td><td> 1.726</td></tr>\n",
       "\t<tr><td> 40000</td><td>67</td><td>198</td><td>50</td><td>married  </td><td>male  </td><td>16</td><td>12.648</td></tr>\n",
       "\t<tr><td>     0</td><td>62</td><td>140</td><td>53</td><td>single   </td><td>female</td><td>12</td><td> 0.949</td></tr>\n",
       "\t<tr><td> 56000</td><td>62</td><td>190</td><td>53</td><td>divorced </td><td>female</td><td>12</td><td>60.434</td></tr>\n",
       "\t<tr><td> 21000</td><td>62</td><td>184</td><td>53</td><td>single   </td><td>female</td><td>12</td><td>14.961</td></tr>\n",
       "\t<tr><td> 22000</td><td>76</td><td>180</td><td>55</td><td>married  </td><td>male  </td><td>14</td><td>33.874</td></tr>\n",
       "\t<tr><td> 14000</td><td>64</td><td>155</td><td>55</td><td>separated</td><td>male  </td><td>12</td><td>13.995</td></tr>\n",
       "\t<tr><td>  3000</td><td>74</td><td>298</td><td>55</td><td>single   </td><td>male  </td><td>12</td><td>53.075</td></tr>\n",
       "\t<tr><td> 72000</td><td>70</td><td>210</td><td>54</td><td>divorced </td><td>male  </td><td>14</td><td>64.364</td></tr>\n",
       "\t<tr><td> 23000</td><td>75</td><td>248</td><td>54</td><td>married  </td><td>male  </td><td>16</td><td>25.388</td></tr>\n",
       "\t<tr><td> 18000</td><td>65</td><td>138</td><td>54</td><td>divorced </td><td>female</td><td>12</td><td>26.955</td></tr>\n",
       "\t<tr><td> 25000</td><td>70</td><td>198</td><td>54</td><td>divorced </td><td>male  </td><td>12</td><td>12.893</td></tr>\n",
       "</tbody>\n",
       "</table>\n"
      ],
      "text/latex": [
       "A tibble: 6645 × 8\n",
       "\\begin{tabular}{llllllll}\n",
       " income & height & weight & age & marital & sex & education & afqt\\\\\n",
       " <int> & <dbl> & <int> & <int> & <fct> & <fct> & <int> & <dbl>\\\\\n",
       "\\hline\n",
       "\t  19000 & 60 & 155 & 53 & married  & female & 13 &  6.841\\\\\n",
       "\t  35000 & 70 & 156 & 51 & married  & female & 10 & 49.444\\\\\n",
       "\t 105000 & 65 & 195 & 52 & married  & male   & 16 & 99.393\\\\\n",
       "\t  40000 & 63 & 197 & 54 & married  & female & 14 & 44.022\\\\\n",
       "\t  75000 & 66 & 190 & 49 & married  & male   & 14 & 59.683\\\\\n",
       "\t 102000 & 68 & 200 & 49 & divorced & female & 18 & 98.798\\\\\n",
       "\t      0 & 74 & 225 & 48 & married  & male   & 16 & 82.260\\\\\n",
       "\t  70000 & 64 & 160 & 54 & divorced & female & 12 & 50.283\\\\\n",
       "\t  60000 & 69 & 162 & 55 & divorced & male   & 12 & 89.669\\\\\n",
       "\t 150000 & 69 & 194 & 54 & divorced & male   & 13 & 95.977\\\\\n",
       "\t 115000 & 64 & 145 & 53 & married  & female & 16 & 67.021\\\\\n",
       "\t 343830 & 62 & 170 & 51 & married  & female & 16 & 88.416\\\\\n",
       "\t  40000 & 64 & 145 & 49 & divorced & female & 16 & 89.167\\\\\n",
       "\t  35000 & 66 & 128 & 52 & married  & female & 14 & 51.390\\\\\n",
       "\t 105000 & 67 & 177 & 50 & married  & male   & 16 & 97.075\\\\\n",
       "\t  16036 & 62 & 170 & 52 & married  & female & 16 & 96.674\\\\\n",
       "\t   5200 & 68 & 175 & 52 & married  & female & 12 & 25.905\\\\\n",
       "\t      0 & 64 & 180 & 53 & married  & female & 13 &  8.528\\\\\n",
       "\t  53000 & 70 & 221 & 54 & divorced & male   & 12 &  6.069\\\\\n",
       "\t  44000 & 66 & 175 & 54 & married  & female & 12 & 56.290\\\\\n",
       "\t  93000 & 63 & 151 & 50 & married  & female & 12 & 12.788\\\\\n",
       "\t  62000 & 72 & 200 & 53 & married  & male   & 12 & 26.851\\\\\n",
       "\t  45000 & 66 & 170 & 52 & married  & male   & 14 & 38.419\\\\\n",
       "\t 130000 & 74 & 236 & 50 & married  & male   & 16 & 57.095\\\\\n",
       "\t  45000 & 72 & 270 & 49 & married  & male   & 12 & 22.326\\\\\n",
       "\t      0 & 66 & 250 & 51 & divorced & female & 12 & 15.325\\\\\n",
       "\t  75000 & 72 & 215 & 53 & married  & male   & 12 & 75.473\\\\\n",
       "\t  73000 & 68 & 230 & 54 & married  & female & 14 & 71.226\\\\\n",
       "\t  55000 & 65 & 200 & 54 & married  & female & 12 & 78.742\\\\\n",
       "\t 343830 & 72 & 210 & 54 & divorced & male   & 14 & 69.080\\\\\n",
       "\t ⋮ & ⋮ & ⋮ & ⋮ & ⋮ & ⋮ & ⋮ & ⋮\\\\\n",
       "\t  13000 & 64 & 191 & 50 & single    & female & 14 & 30.566\\\\\n",
       "\t  23000 & 69 & 253 & 53 & married   & female & 12 &  8.048\\\\\n",
       "\t   9800 & 64 & 143 & 55 & single    & female & 18 & 59.725\\\\\n",
       "\t  38000 & 65 & 238 & 49 & divorced  & female & 12 & 23.066\\\\\n",
       "\t  15000 & 69 & 286 & 52 & married   & male   & 11 & 56.305\\\\\n",
       "\t  57000 & 72 & 230 & 52 & married   & male   & 18 & 24.827\\\\\n",
       "\t 160000 & 72 & 175 & 53 & married   & male   & 16 & 76.013\\\\\n",
       "\t 343830 & 70 & 180 & 50 & married   & male   & 18 & 92.429\\\\\n",
       "\t  44600 & 66 & 126 & 50 & divorced  & female & 12 & 28.024\\\\\n",
       "\t      0 & 69 & 150 & 54 & single    & male   & 12 & 19.957\\\\\n",
       "\t      0 & 61 & 164 & 52 & divorced  & female & 15 & 13.613\\\\\n",
       "\t      0 & 62 & 170 & 52 & single    & female & 12 & 33.225\\\\\n",
       "\t  65000 & 60 & 150 & 51 & married   & female & 16 & 70.098\\\\\n",
       "\t   9120 & 62 & 148 & 56 & married   & female & 11 &  9.484\\\\\n",
       "\t  32000 & 66 & 212 & 55 & married   & male   & 10 &  4.134\\\\\n",
       "\t  34000 & 60 & 235 & 50 & separated & female & 12 & 20.629\\\\\n",
       "\t      0 & 67 & 230 & 52 & married   & female & 12 &  3.310\\\\\n",
       "\t  10000 & 75 & 200 & 51 & divorced  & male   & 12 & 12.200\\\\\n",
       "\t  22000 & 61 & 150 & 53 & married   & female & 11 &  1.726\\\\\n",
       "\t  40000 & 67 & 198 & 50 & married   & male   & 16 & 12.648\\\\\n",
       "\t      0 & 62 & 140 & 53 & single    & female & 12 &  0.949\\\\\n",
       "\t  56000 & 62 & 190 & 53 & divorced  & female & 12 & 60.434\\\\\n",
       "\t  21000 & 62 & 184 & 53 & single    & female & 12 & 14.961\\\\\n",
       "\t  22000 & 76 & 180 & 55 & married   & male   & 14 & 33.874\\\\\n",
       "\t  14000 & 64 & 155 & 55 & separated & male   & 12 & 13.995\\\\\n",
       "\t   3000 & 74 & 298 & 55 & single    & male   & 12 & 53.075\\\\\n",
       "\t  72000 & 70 & 210 & 54 & divorced  & male   & 14 & 64.364\\\\\n",
       "\t  23000 & 75 & 248 & 54 & married   & male   & 16 & 25.388\\\\\n",
       "\t  18000 & 65 & 138 & 54 & divorced  & female & 12 & 26.955\\\\\n",
       "\t  25000 & 70 & 198 & 54 & divorced  & male   & 12 & 12.893\\\\\n",
       "\\end{tabular}\n"
      ],
      "text/markdown": [
       "\n",
       "A tibble: 6645 × 8\n",
       "\n",
       "| income &lt;int&gt; | height &lt;dbl&gt; | weight &lt;int&gt; | age &lt;int&gt; | marital &lt;fct&gt; | sex &lt;fct&gt; | education &lt;int&gt; | afqt &lt;dbl&gt; |\n",
       "|---|---|---|---|---|---|---|---|\n",
       "|  19000 | 60 | 155 | 53 | married  | female | 13 |  6.841 |\n",
       "|  35000 | 70 | 156 | 51 | married  | female | 10 | 49.444 |\n",
       "| 105000 | 65 | 195 | 52 | married  | male   | 16 | 99.393 |\n",
       "|  40000 | 63 | 197 | 54 | married  | female | 14 | 44.022 |\n",
       "|  75000 | 66 | 190 | 49 | married  | male   | 14 | 59.683 |\n",
       "| 102000 | 68 | 200 | 49 | divorced | female | 18 | 98.798 |\n",
       "|      0 | 74 | 225 | 48 | married  | male   | 16 | 82.260 |\n",
       "|  70000 | 64 | 160 | 54 | divorced | female | 12 | 50.283 |\n",
       "|  60000 | 69 | 162 | 55 | divorced | male   | 12 | 89.669 |\n",
       "| 150000 | 69 | 194 | 54 | divorced | male   | 13 | 95.977 |\n",
       "| 115000 | 64 | 145 | 53 | married  | female | 16 | 67.021 |\n",
       "| 343830 | 62 | 170 | 51 | married  | female | 16 | 88.416 |\n",
       "|  40000 | 64 | 145 | 49 | divorced | female | 16 | 89.167 |\n",
       "|  35000 | 66 | 128 | 52 | married  | female | 14 | 51.390 |\n",
       "| 105000 | 67 | 177 | 50 | married  | male   | 16 | 97.075 |\n",
       "|  16036 | 62 | 170 | 52 | married  | female | 16 | 96.674 |\n",
       "|   5200 | 68 | 175 | 52 | married  | female | 12 | 25.905 |\n",
       "|      0 | 64 | 180 | 53 | married  | female | 13 |  8.528 |\n",
       "|  53000 | 70 | 221 | 54 | divorced | male   | 12 |  6.069 |\n",
       "|  44000 | 66 | 175 | 54 | married  | female | 12 | 56.290 |\n",
       "|  93000 | 63 | 151 | 50 | married  | female | 12 | 12.788 |\n",
       "|  62000 | 72 | 200 | 53 | married  | male   | 12 | 26.851 |\n",
       "|  45000 | 66 | 170 | 52 | married  | male   | 14 | 38.419 |\n",
       "| 130000 | 74 | 236 | 50 | married  | male   | 16 | 57.095 |\n",
       "|  45000 | 72 | 270 | 49 | married  | male   | 12 | 22.326 |\n",
       "|      0 | 66 | 250 | 51 | divorced | female | 12 | 15.325 |\n",
       "|  75000 | 72 | 215 | 53 | married  | male   | 12 | 75.473 |\n",
       "|  73000 | 68 | 230 | 54 | married  | female | 14 | 71.226 |\n",
       "|  55000 | 65 | 200 | 54 | married  | female | 12 | 78.742 |\n",
       "| 343830 | 72 | 210 | 54 | divorced | male   | 14 | 69.080 |\n",
       "| ⋮ | ⋮ | ⋮ | ⋮ | ⋮ | ⋮ | ⋮ | ⋮ |\n",
       "|  13000 | 64 | 191 | 50 | single    | female | 14 | 30.566 |\n",
       "|  23000 | 69 | 253 | 53 | married   | female | 12 |  8.048 |\n",
       "|   9800 | 64 | 143 | 55 | single    | female | 18 | 59.725 |\n",
       "|  38000 | 65 | 238 | 49 | divorced  | female | 12 | 23.066 |\n",
       "|  15000 | 69 | 286 | 52 | married   | male   | 11 | 56.305 |\n",
       "|  57000 | 72 | 230 | 52 | married   | male   | 18 | 24.827 |\n",
       "| 160000 | 72 | 175 | 53 | married   | male   | 16 | 76.013 |\n",
       "| 343830 | 70 | 180 | 50 | married   | male   | 18 | 92.429 |\n",
       "|  44600 | 66 | 126 | 50 | divorced  | female | 12 | 28.024 |\n",
       "|      0 | 69 | 150 | 54 | single    | male   | 12 | 19.957 |\n",
       "|      0 | 61 | 164 | 52 | divorced  | female | 15 | 13.613 |\n",
       "|      0 | 62 | 170 | 52 | single    | female | 12 | 33.225 |\n",
       "|  65000 | 60 | 150 | 51 | married   | female | 16 | 70.098 |\n",
       "|   9120 | 62 | 148 | 56 | married   | female | 11 |  9.484 |\n",
       "|  32000 | 66 | 212 | 55 | married   | male   | 10 |  4.134 |\n",
       "|  34000 | 60 | 235 | 50 | separated | female | 12 | 20.629 |\n",
       "|      0 | 67 | 230 | 52 | married   | female | 12 |  3.310 |\n",
       "|  10000 | 75 | 200 | 51 | divorced  | male   | 12 | 12.200 |\n",
       "|  22000 | 61 | 150 | 53 | married   | female | 11 |  1.726 |\n",
       "|  40000 | 67 | 198 | 50 | married   | male   | 16 | 12.648 |\n",
       "|      0 | 62 | 140 | 53 | single    | female | 12 |  0.949 |\n",
       "|  56000 | 62 | 190 | 53 | divorced  | female | 12 | 60.434 |\n",
       "|  21000 | 62 | 184 | 53 | single    | female | 12 | 14.961 |\n",
       "|  22000 | 76 | 180 | 55 | married   | male   | 14 | 33.874 |\n",
       "|  14000 | 64 | 155 | 55 | separated | male   | 12 | 13.995 |\n",
       "|   3000 | 74 | 298 | 55 | single    | male   | 12 | 53.075 |\n",
       "|  72000 | 70 | 210 | 54 | divorced  | male   | 14 | 64.364 |\n",
       "|  23000 | 75 | 248 | 54 | married   | male   | 16 | 25.388 |\n",
       "|  18000 | 65 | 138 | 54 | divorced  | female | 12 | 26.955 |\n",
       "|  25000 | 70 | 198 | 54 | divorced  | male   | 12 | 12.893 |\n",
       "\n"
      ],
      "text/plain": [
       "     income height weight age marital   sex    education afqt  \n",
       "1     19000 60     155    53  married   female 13         6.841\n",
       "2     35000 70     156    51  married   female 10        49.444\n",
       "3    105000 65     195    52  married   male   16        99.393\n",
       "4     40000 63     197    54  married   female 14        44.022\n",
       "5     75000 66     190    49  married   male   14        59.683\n",
       "6    102000 68     200    49  divorced  female 18        98.798\n",
       "7         0 74     225    48  married   male   16        82.260\n",
       "8     70000 64     160    54  divorced  female 12        50.283\n",
       "9     60000 69     162    55  divorced  male   12        89.669\n",
       "10   150000 69     194    54  divorced  male   13        95.977\n",
       "11   115000 64     145    53  married   female 16        67.021\n",
       "12   343830 62     170    51  married   female 16        88.416\n",
       "13    40000 64     145    49  divorced  female 16        89.167\n",
       "14    35000 66     128    52  married   female 14        51.390\n",
       "15   105000 67     177    50  married   male   16        97.075\n",
       "16    16036 62     170    52  married   female 16        96.674\n",
       "17     5200 68     175    52  married   female 12        25.905\n",
       "18        0 64     180    53  married   female 13         8.528\n",
       "19    53000 70     221    54  divorced  male   12         6.069\n",
       "20    44000 66     175    54  married   female 12        56.290\n",
       "21    93000 63     151    50  married   female 12        12.788\n",
       "22    62000 72     200    53  married   male   12        26.851\n",
       "23    45000 66     170    52  married   male   14        38.419\n",
       "24   130000 74     236    50  married   male   16        57.095\n",
       "25    45000 72     270    49  married   male   12        22.326\n",
       "26        0 66     250    51  divorced  female 12        15.325\n",
       "27    75000 72     215    53  married   male   12        75.473\n",
       "28    73000 68     230    54  married   female 14        71.226\n",
       "29    55000 65     200    54  married   female 12        78.742\n",
       "30   343830 72     210    54  divorced  male   14        69.080\n",
       "⋮    ⋮      ⋮      ⋮      ⋮   ⋮         ⋮      ⋮         ⋮     \n",
       "6616  13000 64     191    50  single    female 14        30.566\n",
       "6617  23000 69     253    53  married   female 12         8.048\n",
       "6618   9800 64     143    55  single    female 18        59.725\n",
       "6619  38000 65     238    49  divorced  female 12        23.066\n",
       "6620  15000 69     286    52  married   male   11        56.305\n",
       "6621  57000 72     230    52  married   male   18        24.827\n",
       "6622 160000 72     175    53  married   male   16        76.013\n",
       "6623 343830 70     180    50  married   male   18        92.429\n",
       "6624  44600 66     126    50  divorced  female 12        28.024\n",
       "6625      0 69     150    54  single    male   12        19.957\n",
       "6626      0 61     164    52  divorced  female 15        13.613\n",
       "6627      0 62     170    52  single    female 12        33.225\n",
       "6628  65000 60     150    51  married   female 16        70.098\n",
       "6629   9120 62     148    56  married   female 11         9.484\n",
       "6630  32000 66     212    55  married   male   10         4.134\n",
       "6631  34000 60     235    50  separated female 12        20.629\n",
       "6632      0 67     230    52  married   female 12         3.310\n",
       "6633  10000 75     200    51  divorced  male   12        12.200\n",
       "6634  22000 61     150    53  married   female 11         1.726\n",
       "6635  40000 67     198    50  married   male   16        12.648\n",
       "6636      0 62     140    53  single    female 12         0.949\n",
       "6637  56000 62     190    53  divorced  female 12        60.434\n",
       "6638  21000 62     184    53  single    female 12        14.961\n",
       "6639  22000 76     180    55  married   male   14        33.874\n",
       "6640  14000 64     155    55  separated male   12        13.995\n",
       "6641   3000 74     298    55  single    male   12        53.075\n",
       "6642  72000 70     210    54  divorced  male   14        64.364\n",
       "6643  23000 75     248    54  married   male   16        25.388\n",
       "6644  18000 65     138    54  divorced  female 12        26.955\n",
       "6645  25000 70     198    54  divorced  male   12        12.893"
      ]
     },
     "metadata": {},
     "output_type": "display_data"
    }
   ],
   "source": [
    "na.omit(heights)"
   ]
  },
  {
   "cell_type": "markdown",
   "metadata": {},
   "source": [
    "### Fitting the linear models"
   ]
  },
  {
   "cell_type": "markdown",
   "metadata": {},
   "source": [
    "Formula 1: Income and Height"
   ]
  },
  {
   "cell_type": "code",
   "execution_count": 9,
   "metadata": {},
   "outputs": [
    {
     "data": {
      "text/plain": [
       "\n",
       "Call:\n",
       "lm(formula = incomeHeight, data = heights)\n",
       "\n",
       "Residuals:\n",
       "   Min     1Q Median     3Q    Max \n",
       "-91583 -31511 -10893  14882 320828 \n",
       "\n",
       "Coefficients:\n",
       "             Estimate Std. Error t value Pr(>|t|)    \n",
       "(Intercept) -158888.1    10733.8  -14.80   <2e-16 ***\n",
       "height         2981.8      159.7   18.68   <2e-16 ***\n",
       "---\n",
       "Signif. codes:  0 '***' 0.001 '**' 0.01 '*' 0.05 '.' 0.1 ' ' 1\n",
       "\n",
       "Residual standard error: 54550 on 7004 degrees of freedom\n",
       "Multiple R-squared:  0.04744,\tAdjusted R-squared:  0.0473 \n",
       "F-statistic: 348.8 on 1 and 7004 DF,  p-value: < 2.2e-16\n"
      ]
     },
     "metadata": {},
     "output_type": "display_data"
    }
   ],
   "source": [
    "incomeHeight.lm <- lm(formula=incomeHeight, data = heights)\n",
    "summary(incomeHeight.lm)"
   ]
  },
  {
   "cell_type": "markdown",
   "metadata": {},
   "source": [
    "Formula 2: Income, Weight*Height"
   ]
  },
  {
   "cell_type": "code",
   "execution_count": 10,
   "metadata": {},
   "outputs": [
    {
     "data": {
      "text/plain": [
       "\n",
       "Call:\n",
       "lm(formula = incomeHeightWeight, data = heights)\n",
       "\n",
       "Residuals:\n",
       "   Min     1Q Median     3Q    Max \n",
       "-99489 -30769 -10942  14840 322691 \n",
       "\n",
       "Coefficients:\n",
       "                Estimate Std. Error t value Pr(>|t|)    \n",
       "(Intercept)   -2.075e+05  4.488e+04  -4.622 3.87e-06 ***\n",
       "height         3.933e+03  6.747e+02   5.829 5.84e-09 ***\n",
       "weight         1.044e+02  2.288e+02   0.456    0.648    \n",
       "height:weight -2.741e+00  3.386e+00  -0.809    0.418    \n",
       "---\n",
       "Signif. codes:  0 '***' 0.001 '**' 0.01 '*' 0.05 '.' 0.1 ' ' 1\n",
       "\n",
       "Residual standard error: 54720 on 6907 degrees of freedom\n",
       "  (95 observations deleted due to missingness)\n",
       "Multiple R-squared:  0.05086,\tAdjusted R-squared:  0.05045 \n",
       "F-statistic: 123.4 on 3 and 6907 DF,  p-value: < 2.2e-16\n"
      ]
     },
     "metadata": {},
     "output_type": "display_data"
    }
   ],
   "source": [
    "incomeHeightWeight.lm <- lm(formula = incomeHeightWeight, data=heights)\n",
    "summary(incomeHeightWeight.lm )"
   ]
  },
  {
   "cell_type": "markdown",
   "metadata": {},
   "source": [
    "Formula 3: Income and all variables"
   ]
  },
  {
   "cell_type": "code",
   "execution_count": 11,
   "metadata": {},
   "outputs": [
    {
     "data": {
      "text/plain": [
       "\n",
       "Call:\n",
       "lm(formula = incomeAllVars, data = heights)\n",
       "\n",
       "Residuals:\n",
       "    Min      1Q  Median      3Q     Max \n",
       "-115521  -25139   -5477   14904  326890 \n",
       "\n",
       "Coefficients:\n",
       "                  Estimate Std. Error t value Pr(>|t|)    \n",
       "(Intercept)      -44409.17   20565.27  -2.159  0.03085 *  \n",
       "height              293.26     227.77   1.288  0.19796    \n",
       "weight              -22.62      15.41  -1.468  0.14227    \n",
       "age                -401.81     270.53  -1.485  0.13753    \n",
       "maritalmarried    14204.65    1754.67   8.095 6.74e-16 ***\n",
       "maritalseparated   3364.49    3055.37   1.101  0.27086    \n",
       "maritaldivorced    5586.83    1990.67   2.807  0.00502 ** \n",
       "maritalwidowed    10663.36    4290.03   2.486  0.01296 *  \n",
       "sexfemale        -24815.77    1744.56 -14.225  < 2e-16 ***\n",
       "education          5944.87     289.14  20.561  < 2e-16 ***\n",
       "afqt                389.42      26.52  14.685  < 2e-16 ***\n",
       "---\n",
       "Signif. codes:  0 '***' 0.001 '**' 0.01 '*' 0.05 '.' 0.1 ' ' 1\n",
       "\n",
       "Residual standard error: 49100 on 6634 degrees of freedom\n",
       "  (361 observations deleted due to missingness)\n",
       "Multiple R-squared:  0.2556,\tAdjusted R-squared:  0.2545 \n",
       "F-statistic: 227.8 on 10 and 6634 DF,  p-value: < 2.2e-16\n"
      ]
     },
     "metadata": {},
     "output_type": "display_data"
    }
   ],
   "source": [
    "incomeAllVars.lm<-lm(formula=incomeAllVars, data = heights)\n",
    "\n",
    "summary(incomeAllVars.lm)"
   ]
  },
  {
   "cell_type": "markdown",
   "metadata": {},
   "source": [
    "Exercise 4\n",
    "For each fit, calculate RMSE."
   ]
  },
  {
   "cell_type": "code",
   "execution_count": 12,
   "metadata": {},
   "outputs": [
    {
     "data": {
      "text/html": [
       "54546.4679006303"
      ],
      "text/latex": [
       "54546.4679006303"
      ],
      "text/markdown": [
       "54546.4679006303"
      ],
      "text/plain": [
       "[1] 54546.47"
      ]
     },
     "metadata": {},
     "output_type": "display_data"
    }
   ],
   "source": [
    "# Root mean square error (RMSE)\n",
    "# Formula 1\n",
    "rmse(incomeHeight.lm, data=heights)"
   ]
  },
  {
   "cell_type": "code",
   "execution_count": 13,
   "metadata": {},
   "outputs": [
    {
     "data": {
      "text/html": [
       "54706.7037345624"
      ],
      "text/latex": [
       "54706.7037345624"
      ],
      "text/markdown": [
       "54706.7037345624"
      ],
      "text/plain": [
       "[1] 54706.7"
      ]
     },
     "metadata": {},
     "output_type": "display_data"
    }
   ],
   "source": [
    "# Formula 2\n",
    "rmse(incomeHeightWeight.lm, data=heights)"
   ]
  },
  {
   "cell_type": "code",
   "execution_count": 14,
   "metadata": {},
   "outputs": [
    {
     "data": {
      "text/html": [
       "49056.8236771577"
      ],
      "text/latex": [
       "49056.8236771577"
      ],
      "text/markdown": [
       "49056.8236771577"
      ],
      "text/plain": [
       "[1] 49056.82"
      ]
     },
     "metadata": {},
     "output_type": "display_data"
    }
   ],
   "source": [
    "# Formula 3\n",
    "rmse(incomeAllVars.lm, data=heights)"
   ]
  },
  {
   "cell_type": "markdown",
   "metadata": {},
   "source": [
    "Exercise 5\n",
    "For each model, add residuals to the data and plot their distribution. (Hint: use lift_dl().)"
   ]
  },
  {
   "cell_type": "code",
   "execution_count": 22,
   "metadata": {},
   "outputs": [
    {
     "data": {
      "text/html": [
       "<style>\n",
       ".dl-inline {width: auto; margin:0; padding: 0}\n",
       ".dl-inline>dt, .dl-inline>dd {float: none; width: auto; display: inline-block}\n",
       ".dl-inline>dt::after {content: \":\\0020\"; padding-right: .5ex}\n",
       ".dl-inline>dt:not(:first-of-type) {padding-left: .5ex}\n",
       "</style><dl class=dl-inline><dt>1</dt><dd>-1020.19047581592</dd><dt>2</dt><dd>-14838.231688224</dd><dt>3</dt><dd>70070.788918021</dd><dt>4</dt><dd>11034.39716053</dd><dt>5</dt><dd>37088.9847967665</dd><dt>6</dt><dd>58125.3765542575</dd></dl>\n"
      ],
      "text/latex": [
       "\\begin{description*}\n",
       "\\item[1] -1020.19047581592\n",
       "\\item[2] -14838.231688224\n",
       "\\item[3] 70070.788918021\n",
       "\\item[4] 11034.39716053\n",
       "\\item[5] 37088.9847967665\n",
       "\\item[6] 58125.3765542575\n",
       "\\end{description*}\n"
      ],
      "text/markdown": [
       "1\n",
       ":   -1020.190475815922\n",
       ":   -14838.2316882243\n",
       ":   70070.7889180214\n",
       ":   11034.397160535\n",
       ":   37088.98479676656\n",
       ":   58125.3765542575\n",
       "\n"
      ],
      "text/plain": [
       "        1         2         3         4         5         6 \n",
       " -1020.19 -14838.23  70070.79  11034.40  37088.98  58125.38 "
      ]
     },
     "metadata": {},
     "output_type": "display_data"
    }
   ],
   "source": [
    "res1 <- resid(incomeHeight.lm )\n",
    "head(res1)"
   ]
  },
  {
   "cell_type": "markdown",
   "metadata": {},
   "source": [
    "Income and height distribution with residuals"
   ]
  },
  {
   "cell_type": "code",
   "execution_count": 16,
   "metadata": {},
   "outputs": [
    {
     "data": {
      "image/png": "[encoded data removed]",
      "text/plain": [
       "plot without title"
      ]
     },
     "metadata": {
      "image/png": {
       "height": 420,
       "width": 420
      }
     },
     "output_type": "display_data"
    }
   ],
   "source": [
    "ggplot(incomeHeight.lm, aes(income,res1)) + geom_ref_line(h=0) + geom_point()"
   ]
  },
  {
   "cell_type": "markdown",
   "metadata": {},
   "source": [
    "Income, height, and weight distrubtion with residuals"
   ]
  },
  {
   "cell_type": "code",
   "execution_count": 23,
   "metadata": {},
   "outputs": [
    {
     "data": {
      "text/html": [
       "<style>\n",
       ".dl-inline {width: auto; margin:0; padding: 0}\n",
       ".dl-inline>dt, .dl-inline>dd {float: none; width: auto; display: inline-block}\n",
       ".dl-inline>dt::after {content: \":\\0020\"; padding-right: .5ex}\n",
       ".dl-inline>dt:not(:first-of-type) {padding-left: .5ex}\n",
       "</style><dl class=dl-inline><dt>1</dt><dd>-200.711141400802</dd><dt>2</dt><dd>-19192.0588623932</dd><dt>3</dt><dd>71210.3398287494</dd><dt>4</dt><dd>13143.384590564</dd><dt>5</dt><dd>37429.5849069782</dd><dt>6</dt><dd>58425.5329502667</dd></dl>\n"
      ],
      "text/latex": [
       "\\begin{description*}\n",
       "\\item[1] -200.711141400802\n",
       "\\item[2] -19192.0588623932\n",
       "\\item[3] 71210.3398287494\n",
       "\\item[4] 13143.384590564\n",
       "\\item[5] 37429.5849069782\n",
       "\\item[6] 58425.5329502667\n",
       "\\end{description*}\n"
      ],
      "text/markdown": [
       "1\n",
       ":   -200.7111414008022\n",
       ":   -19192.05886239323\n",
       ":   71210.33982874944\n",
       ":   13143.3845905645\n",
       ":   37429.58490697826\n",
       ":   58425.5329502667\n",
       "\n"
      ],
      "text/plain": [
       "          1           2           3           4           5           6 \n",
       "  -200.7111 -19192.0589  71210.3398  13143.3846  37429.5849  58425.5330 "
      ]
     },
     "metadata": {},
     "output_type": "display_data"
    }
   ],
   "source": [
    "res2 = resid(incomeHeightWeight.lm )\n",
    "head(res2)"
   ]
  },
  {
   "cell_type": "code",
   "execution_count": 18,
   "metadata": {},
   "outputs": [
    {
     "data": {
      "image/png": "[encoded data removed]",
      "text/plain": [
       "plot without title"
      ]
     },
     "metadata": {
      "image/png": {
       "height": 420,
       "width": 420
      }
     },
     "output_type": "display_data"
    }
   ],
   "source": [
    "ggplot(incomeHeightWeight.lm, aes(income,res2)) + geom_ref_line(h=0) + geom_point()"
   ]
  },
  {
   "cell_type": "markdown",
   "metadata": {},
   "source": [
    "Distrubtion with residuals for all variables (Income, height, weight, age, marital status, sex,  \n",
    "    education, afqt)"
   ]
  },
  {
   "cell_type": "code",
   "execution_count": 24,
   "metadata": {},
   "outputs": [
    {
     "data": {
      "text/html": [
       "<style>\n",
       ".dl-inline {width: auto; margin:0; padding: 0}\n",
       ".dl-inline>dt, .dl-inline>dd {float: none; width: auto; display: inline-block}\n",
       ".dl-inline>dt::after {content: \":\\0020\"; padding-right: .5ex}\n",
       ".dl-inline>dt:not(:first-of-type) {padding-left: .5ex}\n",
       "</style><dl class=dl-inline><dt>1</dt><dd>1278.52289566781</dd><dt>2</dt><dd>14809.1438838556</dd><dt>3</dt><dd>7623.23913893516</dd><dt>4</dt><dd>2326.57988826756</dd><dt>5</dt><dd>3364.98861850554</dd><dt>6</dt><dd>24426.6353379245</dd></dl>\n"
      ],
      "text/latex": [
       "\\begin{description*}\n",
       "\\item[1] 1278.52289566781\n",
       "\\item[2] 14809.1438838556\n",
       "\\item[3] 7623.23913893516\n",
       "\\item[4] 2326.57988826756\n",
       "\\item[5] 3364.98861850554\n",
       "\\item[6] 24426.6353379245\n",
       "\\end{description*}\n"
      ],
      "text/markdown": [
       "1\n",
       ":   1278.522895667812\n",
       ":   14809.14388385563\n",
       ":   7623.239138935164\n",
       ":   2326.579888267565\n",
       ":   3364.988618505546\n",
       ":   24426.6353379245\n",
       "\n"
      ],
      "text/plain": [
       "        1         2         3         4         5         6 \n",
       " 1278.523 14809.144  7623.239  2326.580  3364.989 24426.635 "
      ]
     },
     "metadata": {},
     "output_type": "display_data"
    }
   ],
   "source": [
    "res3 = resid(incomeAllVars.lm)\n",
    "head(res3)"
   ]
  },
  {
   "cell_type": "code",
   "execution_count": 20,
   "metadata": {},
   "outputs": [
    {
     "data": {
      "image/png": "[encoded data removed]",
      "text/plain": [
       "plot without title"
      ]
     },
     "metadata": {
      "image/png": {
       "height": 420,
       "width": 420
      }
     },
     "output_type": "display_data"
    }
   ],
   "source": [
    "ggplot(incomeAllVars.lm, aes(income,res3)) + geom_ref_line(h=0) + geom_point()"
   ]
  }
 ],
 "metadata": {
  "kernelspec": {
   "display_name": "R",
   "language": "R",
   "name": "ir"
  },
  "language_info": {
   "codemirror_mode": "r",
   "file_extension": ".r",
   "mimetype": "text/x-r-source",
   "name": "R",
   "pygments_lexer": "r",
   "version": "4.2.0"
  }
 },
 "nbformat": 4,
 "nbformat_minor": 4
}
